{
 "cells": [
  {
   "cell_type": "code",
   "execution_count": 1,
   "metadata": {},
   "outputs": [],
   "source": [
    "import os\n",
    "import numpy as np\n",
    "import pandas as pd\n",
    "import matplotlib.pyplot as plt\n",
    "from collections import Counter\n",
    "from operator import itemgetter\n",
    "from typing import List\n"
   ]
  },
  {
   "cell_type": "code",
   "execution_count": 46,
   "metadata": {},
   "outputs": [],
   "source": [
    "class ItemRank(object):\n",
    "    \"\"\"\n",
    "   \n",
    "    \"\"\"\n",
    "\n",
    "    def __init__(self, \n",
    "                 dataframe=pd.DataFrame,\n",
    "                 df_key=List[str], \n",
    "                 rating=None,\n",
    "                 m=None, \n",
    "                 C=None,  **args):\n",
    "        self.data = dataframe\n",
    "        self.df_key = df_key\n",
    "        self.rating = rating\n",
    "        self.prior = m\n",
    "        self.confidence = C\n",
    "    \n",
    "    ##Need to handle exceptions\n",
    "    ##Check @property meaning\n",
    "    @property\n",
    "    def items(self):\n",
    "        \"\"\"\n",
    "        Returns the data grouped by items\n",
    "        \"\"\"\n",
    "        return self.data.groupby(self.df_key)\n",
    "\n",
    "    def get_means(self):\n",
    "        return self.items[self.rating].mean()\n",
    "\n",
    "    def get_counts(self):\n",
    "        return self.items[self.rating].count()\n",
    "    \n",
    "    def plot_mean_frequency(self):\n",
    "        grid   = pd.DataFrame({\n",
    "                    'Mean Rating':  self.items[self.rating].mean(),\n",
    "                    'Number of Reviews': self.items[self.rating].count()\n",
    "                 })\n",
    "        grid.plot(x='Number of Reviews', y='Mean Rating', kind='hexbin',\n",
    "                  xscale='log', cmap='YlGnBu', gridsize=12, mincnt=1,\n",
    "                  title=\"Ratings by Simple Mean\")\n",
    "        plt.show()\n",
    "    \n",
    "    def bayesian_mean(self, arr):\n",
    "        if not self.prior or not self.confidence:\n",
    "            raise TypeError(\"Bayesian mean must be computed with m and C\")\n",
    "\n",
    "        return ((self.confidence * self.prior + arr.sum()) /\n",
    "                (self.confidence + arr.count()))\n",
    "    \n",
    "    def get_bayesian_estimates(self):\n",
    "        return self.items[self.rating].agg(self.bayesian_mean)\n",
    "    \n",
    "    def top_items(self, n=10):\n",
    "        table   = pd.DataFrame({\n",
    "                    'mean':  self.get_means(),\n",
    "                    'count': self.get_counts(),\n",
    "                    'bayes': self.get_bayesian_estimates()\n",
    "                 })\n",
    "        return table.sort_values('bayes', ascending = False)[:n]\n",
    "\n",
    "    def get_rank(self,rating_method='avg',ascending = True):\n",
    "        if rating_method == 'bayes':\n",
    "            table   = pd.DataFrame({\n",
    "                    'count': self.get_counts(),\n",
    "                    'rating': self.get_bayesian_estimates()\n",
    "                 })\n",
    "        elif rating_method == 'avg':\n",
    "            table   = pd.DataFrame({\n",
    "                    'count': self.get_counts(),\n",
    "                    'rating': self.get_means()\n",
    "                 })\n",
    "        table['rank'] = table['rating'].rank(ascending = ascending)\n",
    "        return table.sort_values('rank')"
   ]
  },
  {
   "cell_type": "code",
   "execution_count": 3,
   "metadata": {},
   "outputs": [],
   "source": [
    "bgg = 'data/bgg.csv'"
   ]
  },
  {
   "cell_type": "code",
   "execution_count": 4,
   "metadata": {},
   "outputs": [],
   "source": [
    "#import data\n",
    "df = pd.read_csv(bgg)"
   ]
  },
  {
   "cell_type": "code",
   "execution_count": 48,
   "metadata": {},
   "outputs": [],
   "source": [
    "ratings = ItemRank(df,df_key= ['game','title'], rating = 'rating',m=6.3,C=30)"
   ]
  },
  {
   "cell_type": "code",
   "execution_count": null,
   "metadata": {},
   "outputs": [],
   "source": [
    "print (ratings.top_items(n=100))\n",
    "print (ratings.plot_mean_frequency())"
   ]
  },
  {
   "cell_type": "code",
   "execution_count": 49,
   "metadata": {},
   "outputs": [],
   "source": [
    "bayes_rank = ratings.get_rank(rating_method='bayes',ascending= False)"
   ]
  },
  {
   "cell_type": "code",
   "execution_count": 50,
   "metadata": {},
   "outputs": [
    {
     "data": {
      "text/html": [
       "<div>\n",
       "<style scoped>\n",
       "    .dataframe tbody tr th:only-of-type {\n",
       "        vertical-align: middle;\n",
       "    }\n",
       "\n",
       "    .dataframe tbody tr th {\n",
       "        vertical-align: top;\n",
       "    }\n",
       "\n",
       "    .dataframe thead th {\n",
       "        text-align: right;\n",
       "    }\n",
       "</style>\n",
       "<table border=\"1\" class=\"dataframe\">\n",
       "  <thead>\n",
       "    <tr style=\"text-align: right;\">\n",
       "      <th></th>\n",
       "      <th></th>\n",
       "      <th>count</th>\n",
       "      <th>rating</th>\n",
       "      <th>rank</th>\n",
       "    </tr>\n",
       "    <tr>\n",
       "      <th>game</th>\n",
       "      <th>title</th>\n",
       "      <th></th>\n",
       "      <th></th>\n",
       "      <th></th>\n",
       "    </tr>\n",
       "  </thead>\n",
       "  <tbody>\n",
       "    <tr>\n",
       "      <th>261393</th>\n",
       "      <th>Dungeon Universalis</th>\n",
       "      <td>79</td>\n",
       "      <td>8.739817</td>\n",
       "      <td>1.0</td>\n",
       "    </tr>\n",
       "    <tr>\n",
       "      <th>228370</th>\n",
       "      <th>TerroriXico</th>\n",
       "      <td>43</td>\n",
       "      <td>8.438356</td>\n",
       "      <td>2.0</td>\n",
       "    </tr>\n",
       "    <tr>\n",
       "      <th>240271</th>\n",
       "      <th>Core Space</th>\n",
       "      <td>76</td>\n",
       "      <td>8.338679</td>\n",
       "      <td>3.0</td>\n",
       "    </tr>\n",
       "    <tr>\n",
       "      <th>259061</th>\n",
       "      <th>Skytear</th>\n",
       "      <td>69</td>\n",
       "      <td>8.317172</td>\n",
       "      <td>4.0</td>\n",
       "    </tr>\n",
       "    <tr>\n",
       "      <th>245240</th>\n",
       "      <th>Goblin Grapple</th>\n",
       "      <td>88</td>\n",
       "      <td>8.226271</td>\n",
       "      <td>5.0</td>\n",
       "    </tr>\n",
       "  </tbody>\n",
       "</table>\n",
       "</div>"
      ],
      "text/plain": [
       "                            count    rating  rank\n",
       "game   title                                     \n",
       "261393 Dungeon Universalis     79  8.739817   1.0\n",
       "228370 TerroriXico             43  8.438356   2.0\n",
       "240271 Core Space              76  8.338679   3.0\n",
       "259061 Skytear                 69  8.317172   4.0\n",
       "245240 Goblin Grapple          88  8.226271   5.0"
      ]
     },
     "execution_count": 50,
     "metadata": {},
     "output_type": "execute_result"
    }
   ],
   "source": [
    "bayes_rank.head()"
   ]
  }
 ],
 "metadata": {
  "kernelspec": {
   "display_name": "Python 3",
   "language": "python",
   "name": "python3"
  },
  "language_info": {
   "codemirror_mode": {
    "name": "ipython",
    "version": 3
   },
   "file_extension": ".py",
   "mimetype": "text/x-python",
   "name": "python",
   "nbconvert_exporter": "python",
   "pygments_lexer": "ipython3",
   "version": "3.6.6"
  }
 },
 "nbformat": 4,
 "nbformat_minor": 4
}
