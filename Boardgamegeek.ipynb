{
 "cells": [
  {
   "cell_type": "code",
   "execution_count": null,
   "metadata": {},
   "outputs": [],
   "source": [
    "###importo le librerie che utilizzerò"
   ]
  },
  {
   "cell_type": "code",
   "execution_count": 1,
   "metadata": {},
   "outputs": [],
   "source": [
    "import os\n",
    "import numpy as np\n",
    "import pandas as pd\n",
    "import matplotlib.pyplot as plt\n",
    "from collections import Counter\n",
    "from operator import itemgetter\n"
   ]
  },
  {
   "cell_type": "code",
   "execution_count": null,
   "metadata": {},
   "outputs": [],
   "source": [
    "##trovo il percorso del file"
   ]
  },
  {
   "cell_type": "code",
   "execution_count": 2,
   "metadata": {},
   "outputs": [],
   "source": [
    "bgg = 'bgg.cvs/bgg.csv'"
   ]
  },
  {
   "cell_type": "code",
   "execution_count": 3,
   "metadata": {},
   "outputs": [],
   "source": [
    "class Board_game(object):\n",
    "    \"\"\"\n",
    "    An analytical wrapper that manages access to the data and wraps various\n",
    "    statistical functions for easy and quick evaluation.\n",
    "    \"\"\"\n",
    "\n",
    "    def __init__(self, path=bgg, m=6.3, C=30):\n",
    "        self.path  = path\n",
    "        self.prior = m\n",
    "        self.confidence = C\n",
    "        self.load()\n",
    "                \n",
    "\n",
    "    def load(self):\n",
    "        \"\"\"\n",
    "        Load data from disk into a DataFrame.\n",
    "        \"\"\"\n",
    "        self.data = pd.read_csv(self.path)\n",
    "\n",
    "    @property\n",
    "    def games(self):\n",
    "        \"\"\"\n",
    "        Returns the data grouped by Games\n",
    "        \"\"\"\n",
    "        return self.data.groupby(['game', 'title'])\n",
    "\n",
    "    def get_means(self):\n",
    "        return self.games['rating'].mean()\n",
    "\n",
    "    def get_counts(self):\n",
    "        return self.games['game'].count()\n",
    "\n",
    "    def describe(self):\n",
    "        return self.data.describe()\n",
    "\n",
    "    def __str__(self):\n",
    "        return str(self.data.head())\n",
    "    \n",
    "    def plot_mean_frequency(self):\n",
    "        grid   = pd.DataFrame({\n",
    "                    'Mean Rating':  self.games['rating'].mean(),\n",
    "                    'Number of Reviewers': self.games['rating'].count()\n",
    "                 })\n",
    "        grid.plot(x='Number of Reviewers', y='Mean Rating', kind='hexbin',\n",
    "                  xscale='log', cmap='YlGnBu', gridsize=12, mincnt=1,\n",
    "                  title=\"Ratings by Simple Mean\")\n",
    "        plt.show()\n",
    "    \n",
    "    def bayesian_mean(self, arr):\n",
    "        if not self.prior or not self.confidence:\n",
    "            raise TypeError(\"Bayesian mean must be computed with m and C\")\n",
    "\n",
    "        return ((self.confidence * self.prior + arr.sum()) /\n",
    "                (self.confidence + arr.count()))\n",
    "    \n",
    "    def get_bayesian_estimates(self):\n",
    "        return self.games['rating'].agg(self.bayesian_mean)\n",
    "    \n",
    "\n",
    "    def top_games(self, n=20):\n",
    "        table   = pd.DataFrame({\n",
    "                    'mean':  self.get_means(),\n",
    "                    'count': self.get_counts(),\n",
    "                    'bayes': self.get_bayesian_estimates()\n",
    "                 })\n",
    "        return table.sort_values('bayes', ascending = False)[:n]\n"
   ]
  },
  {
   "cell_type": "code",
   "execution_count": 9,
   "metadata": {},
   "outputs": [
    {
     "name": "stdout",
     "output_type": "stream",
     "text": [
      "                                                     mean  count     bayes\n",
      "game   title                                                              \n",
      "261393 Dungeon Universalis                       9.666329    100  8.739817\n",
      "228370 TerroriXico                               9.930233     46  8.438356\n",
      "240271 Core Space                                9.143421    100  8.338679\n",
      "259061 Skytear                                   9.194203    100  8.317172\n",
      "245240 Goblin Grapple                            8.882955    100  8.226271\n",
      "266507 Clank! Legacy: Acquisitions Incorporated  9.009954    100  8.212909\n",
      "115746 War of the Ring: Second Edition           8.921622    100  8.165385\n",
      "209877 World At War 85: Storming the Gap         9.344681     70  8.158442\n",
      "194923 Techno Bowl: Arcade Football Unplugged    8.826625    100  8.137545\n",
      "284111 Drinks & Daggers                          9.311111     48  8.106667\n",
      "258148 Power Rangers: Heroes of the Grid         8.835616    100  8.097087\n",
      "219217 Arena: The Contest                        8.996610    100  8.087640\n",
      "270633 Aeon's End: The New Age                   9.078269    100  8.061829\n",
      "276997 X-ODUS: Rise of the Corruption            8.856061     89  8.057292\n",
      "220308 Gaia Project                              8.751507    100  8.037476\n",
      "131111 Codex: Card-Time Strategy – Deluxe Set    8.702564    100  8.035185\n",
      "230889 Aristeia!                                 8.739444    100  8.021961\n",
      "200680 Agricola (Revised Edition)                8.683766    100  8.015421\n",
      "192135 Too Many Bones                            8.752239    100  7.993814\n",
      "224483 Exceed Fighting System                    8.699286    100  7.979500\n"
     ]
    },
    {
     "data": {
      "image/png": "[encoded data removed]",
      "text/plain": [
       "<Figure size 432x288 with 2 Axes>"
      ]
     },
     "metadata": {
      "needs_background": "light"
     },
     "output_type": "display_data"
    },
    {
     "name": "stdout",
     "output_type": "stream",
     "text": [
      "None\n"
     ]
    }
   ],
   "source": [
    "ratings = Board_game()\n",
    "print (ratings.top_games())\n",
    "print (ratings.plot_mean_frequency())"
   ]
  },
  {
   "cell_type": "code",
   "execution_count": null,
   "metadata": {},
   "outputs": [],
   "source": [
    "#utilizzando pandas e il suo metodo di lettura csv lo inserisco in un DataFrame"
   ]
  },
  {
   "cell_type": "code",
   "execution_count": 5,
   "metadata": {},
   "outputs": [],
   "source": [
    "df = pd.read_csv(bgg)"
   ]
  },
  {
   "cell_type": "code",
   "execution_count": 6,
   "metadata": {},
   "outputs": [
    {
     "data": {
      "text/html": [
       "<div>\n",
       "<style scoped>\n",
       "    .dataframe tbody tr th:only-of-type {\n",
       "        vertical-align: middle;\n",
       "    }\n",
       "\n",
       "    .dataframe tbody tr th {\n",
       "        vertical-align: top;\n",
       "    }\n",
       "\n",
       "    .dataframe thead th {\n",
       "        text-align: right;\n",
       "    }\n",
       "</style>\n",
       "<table border=\"1\" class=\"dataframe\">\n",
       "  <thead>\n",
       "    <tr style=\"text-align: right;\">\n",
       "      <th></th>\n",
       "      <th>game</th>\n",
       "      <th>title</th>\n",
       "      <th>rating</th>\n",
       "    </tr>\n",
       "  </thead>\n",
       "  <tbody>\n",
       "    <tr>\n",
       "      <th>0</th>\n",
       "      <td>25984</td>\n",
       "      <td>Trivial Pursuit: Genus IV – Canadian Edition</td>\n",
       "      <td>3.0</td>\n",
       "    </tr>\n",
       "    <tr>\n",
       "      <th>1</th>\n",
       "      <td>25984</td>\n",
       "      <td>Trivial Pursuit: Genus IV – Canadian Edition</td>\n",
       "      <td>5.0</td>\n",
       "    </tr>\n",
       "    <tr>\n",
       "      <th>2</th>\n",
       "      <td>25984</td>\n",
       "      <td>Trivial Pursuit: Genus IV – Canadian Edition</td>\n",
       "      <td>3.0</td>\n",
       "    </tr>\n",
       "    <tr>\n",
       "      <th>3</th>\n",
       "      <td>25984</td>\n",
       "      <td>Trivial Pursuit: Genus IV – Canadian Edition</td>\n",
       "      <td>7.0</td>\n",
       "    </tr>\n",
       "    <tr>\n",
       "      <th>4</th>\n",
       "      <td>25984</td>\n",
       "      <td>Trivial Pursuit: Genus IV – Canadian Edition</td>\n",
       "      <td>6.0</td>\n",
       "    </tr>\n",
       "    <tr>\n",
       "      <th>...</th>\n",
       "      <td>...</td>\n",
       "      <td>...</td>\n",
       "      <td>...</td>\n",
       "    </tr>\n",
       "    <tr>\n",
       "      <th>1082162</th>\n",
       "      <td>11906</td>\n",
       "      <td>Source of the Nile: Tributary</td>\n",
       "      <td>5.0</td>\n",
       "    </tr>\n",
       "    <tr>\n",
       "      <th>1082163</th>\n",
       "      <td>11906</td>\n",
       "      <td>Source of the Nile: Tributary</td>\n",
       "      <td>NaN</td>\n",
       "    </tr>\n",
       "    <tr>\n",
       "      <th>1082164</th>\n",
       "      <td>11906</td>\n",
       "      <td>Source of the Nile: Tributary</td>\n",
       "      <td>NaN</td>\n",
       "    </tr>\n",
       "    <tr>\n",
       "      <th>1082165</th>\n",
       "      <td>11906</td>\n",
       "      <td>Source of the Nile: Tributary</td>\n",
       "      <td>NaN</td>\n",
       "    </tr>\n",
       "    <tr>\n",
       "      <th>1082166</th>\n",
       "      <td>11906</td>\n",
       "      <td>Source of the Nile: Tributary</td>\n",
       "      <td>NaN</td>\n",
       "    </tr>\n",
       "  </tbody>\n",
       "</table>\n",
       "<p>1082167 rows × 3 columns</p>\n",
       "</div>"
      ],
      "text/plain": [
       "          game                                         title  rating\n",
       "0        25984  Trivial Pursuit: Genus IV – Canadian Edition     3.0\n",
       "1        25984  Trivial Pursuit: Genus IV – Canadian Edition     5.0\n",
       "2        25984  Trivial Pursuit: Genus IV – Canadian Edition     3.0\n",
       "3        25984  Trivial Pursuit: Genus IV – Canadian Edition     7.0\n",
       "4        25984  Trivial Pursuit: Genus IV – Canadian Edition     6.0\n",
       "...        ...                                           ...     ...\n",
       "1082162  11906                 Source of the Nile: Tributary     5.0\n",
       "1082163  11906                 Source of the Nile: Tributary     NaN\n",
       "1082164  11906                 Source of the Nile: Tributary     NaN\n",
       "1082165  11906                 Source of the Nile: Tributary     NaN\n",
       "1082166  11906                 Source of the Nile: Tributary     NaN\n",
       "\n",
       "[1082167 rows x 3 columns]"
      ]
     },
     "execution_count": 6,
     "metadata": {},
     "output_type": "execute_result"
    }
   ],
   "source": [
    "df"
   ]
  },
  {
   "cell_type": "code",
   "execution_count": 7,
   "metadata": {},
   "outputs": [
    {
     "data": {
      "text/plain": [
       "game        int64\n",
       "title      object\n",
       "rating    float64\n",
       "dtype: object"
      ]
     },
     "execution_count": 7,
     "metadata": {},
     "output_type": "execute_result"
    }
   ],
   "source": [
    "df.dtypes"
   ]
  },
  {
   "cell_type": "code",
   "execution_count": 8,
   "metadata": {},
   "outputs": [
    {
     "name": "stdout",
     "output_type": "stream",
     "text": [
      "<class 'pandas.core.frame.DataFrame'>\n",
      "RangeIndex: 1082167 entries, 0 to 1082166\n",
      "Data columns (total 3 columns):\n",
      " #   Column  Non-Null Count    Dtype  \n",
      "---  ------  --------------    -----  \n",
      " 0   game    1082167 non-null  int64  \n",
      " 1   title   1082167 non-null  object \n",
      " 2   rating  706813 non-null   float64\n",
      "dtypes: float64(1), int64(1), object(1)\n",
      "memory usage: 24.8+ MB\n"
     ]
    }
   ],
   "source": [
    "df.info()"
   ]
  },
  {
   "cell_type": "code",
   "execution_count": 9,
   "metadata": {
    "scrolled": true
   },
   "outputs": [
    {
     "data": {
      "text/html": [
       "<div>\n",
       "<style scoped>\n",
       "    .dataframe tbody tr th:only-of-type {\n",
       "        vertical-align: middle;\n",
       "    }\n",
       "\n",
       "    .dataframe tbody tr th {\n",
       "        vertical-align: top;\n",
       "    }\n",
       "\n",
       "    .dataframe thead th {\n",
       "        text-align: right;\n",
       "    }\n",
       "</style>\n",
       "<table border=\"1\" class=\"dataframe\">\n",
       "  <thead>\n",
       "    <tr style=\"text-align: right;\">\n",
       "      <th></th>\n",
       "      <th>game</th>\n",
       "      <th>title</th>\n",
       "      <th>rating</th>\n",
       "    </tr>\n",
       "  </thead>\n",
       "  <tbody>\n",
       "    <tr>\n",
       "      <th>0</th>\n",
       "      <td>25984</td>\n",
       "      <td>Trivial Pursuit: Genus IV – Canadian Edition</td>\n",
       "      <td>3.0</td>\n",
       "    </tr>\n",
       "    <tr>\n",
       "      <th>1</th>\n",
       "      <td>25984</td>\n",
       "      <td>Trivial Pursuit: Genus IV – Canadian Edition</td>\n",
       "      <td>5.0</td>\n",
       "    </tr>\n",
       "    <tr>\n",
       "      <th>2</th>\n",
       "      <td>25984</td>\n",
       "      <td>Trivial Pursuit: Genus IV – Canadian Edition</td>\n",
       "      <td>3.0</td>\n",
       "    </tr>\n",
       "    <tr>\n",
       "      <th>3</th>\n",
       "      <td>25984</td>\n",
       "      <td>Trivial Pursuit: Genus IV – Canadian Edition</td>\n",
       "      <td>7.0</td>\n",
       "    </tr>\n",
       "    <tr>\n",
       "      <th>4</th>\n",
       "      <td>25984</td>\n",
       "      <td>Trivial Pursuit: Genus IV – Canadian Edition</td>\n",
       "      <td>6.0</td>\n",
       "    </tr>\n",
       "  </tbody>\n",
       "</table>\n",
       "</div>"
      ],
      "text/plain": [
       "    game                                         title  rating\n",
       "0  25984  Trivial Pursuit: Genus IV – Canadian Edition     3.0\n",
       "1  25984  Trivial Pursuit: Genus IV – Canadian Edition     5.0\n",
       "2  25984  Trivial Pursuit: Genus IV – Canadian Edition     3.0\n",
       "3  25984  Trivial Pursuit: Genus IV – Canadian Edition     7.0\n",
       "4  25984  Trivial Pursuit: Genus IV – Canadian Edition     6.0"
      ]
     },
     "execution_count": 9,
     "metadata": {},
     "output_type": "execute_result"
    }
   ],
   "source": [
    "df.head()"
   ]
  },
  {
   "cell_type": "code",
   "execution_count": null,
   "metadata": {},
   "outputs": [],
   "source": []
  },
  {
   "cell_type": "code",
   "execution_count": 10,
   "metadata": {},
   "outputs": [
    {
     "data": {
      "text/plain": [
       "count    706813.00000\n",
       "mean          6.42343\n",
       "std           1.90770\n",
       "min           0.00000\n",
       "25%           5.00000\n",
       "50%           6.95000\n",
       "75%           8.00000\n",
       "max          10.00000\n",
       "Name: rating, dtype: object"
      ]
     },
     "execution_count": 10,
     "metadata": {},
     "output_type": "execute_result"
    }
   ],
   "source": [
    "df['rating'].describe().apply(\"{0:.5f}\".format)"
   ]
  },
  {
   "cell_type": "code",
   "execution_count": 11,
   "metadata": {},
   "outputs": [
    {
     "data": {
      "text/plain": [
       "1650"
      ]
     },
     "execution_count": 11,
     "metadata": {},
     "output_type": "execute_result"
    }
   ],
   "source": [
    "df['rating'].nunique()"
   ]
  },
  {
   "cell_type": "code",
   "execution_count": 12,
   "metadata": {},
   "outputs": [
    {
     "data": {
      "text/plain": [
       "game      False\n",
       "title     False\n",
       "rating     True\n",
       "dtype: bool"
      ]
     },
     "execution_count": 12,
     "metadata": {},
     "output_type": "execute_result"
    }
   ],
   "source": [
    "df.isna().any()"
   ]
  },
  {
   "cell_type": "code",
   "execution_count": null,
   "metadata": {},
   "outputs": [],
   "source": [
    "#sum([True for idx,row in df.iterrows() if any(row.isnull())])"
   ]
  },
  {
   "cell_type": "code",
   "execution_count": 32,
   "metadata": {},
   "outputs": [],
   "source": [
    "c = df.round(0)"
   ]
  },
  {
   "cell_type": "code",
   "execution_count": 33,
   "metadata": {},
   "outputs": [
    {
     "data": {
      "text/plain": [
       "array([ 3.,  5.,  7.,  6., nan,  9.,  8., 10.,  1.,  4.,  2.,  0.])"
      ]
     },
     "execution_count": 33,
     "metadata": {},
     "output_type": "execute_result"
    }
   ],
   "source": [
    "c['rating'].unique()"
   ]
  },
  {
   "cell_type": "code",
   "execution_count": 34,
   "metadata": {},
   "outputs": [
    {
     "data": {
      "image/png": "[encoded data removed]",
      "text/plain": [
       "<Figure size 1152x432 with 2 Axes>"
      ]
     },
     "metadata": {
      "needs_background": "light"
     },
     "output_type": "display_data"
    }
   ],
   "source": [
    "fig, ax = plt.subplots(figsize=(16, 6),nrows=1, ncols=2)\n",
    "c[['rating']].boxplot(ax=ax[0])\n",
    "c['rating'].plot.kde(ax=ax[1])\n",
    "plt.show()\n",
    "    \n"
   ]
  },
  {
   "cell_type": "code",
   "execution_count": null,
   "metadata": {},
   "outputs": [],
   "source": [
    "## Nuovo DataFrame con la media aritmetica dei voti per ciascun gioco messi in ordine "
   ]
  },
  {
   "cell_type": "code",
   "execution_count": 14,
   "metadata": {},
   "outputs": [],
   "source": [
    "df_mean_ranking = df.groupby(['game', 'title']).agg(mean_rating=('rating', 'mean')).sort_values('mean_rating', ascending= False)[:20]"
   ]
  },
  {
   "cell_type": "code",
   "execution_count": 15,
   "metadata": {},
   "outputs": [
    {
     "data": {
      "text/html": [
       "<div>\n",
       "<style scoped>\n",
       "    .dataframe tbody tr th:only-of-type {\n",
       "        vertical-align: middle;\n",
       "    }\n",
       "\n",
       "    .dataframe tbody tr th {\n",
       "        vertical-align: top;\n",
       "    }\n",
       "\n",
       "    .dataframe thead th {\n",
       "        text-align: right;\n",
       "    }\n",
       "</style>\n",
       "<table border=\"1\" class=\"dataframe\">\n",
       "  <thead>\n",
       "    <tr style=\"text-align: right;\">\n",
       "      <th></th>\n",
       "      <th></th>\n",
       "      <th>mean_rating</th>\n",
       "    </tr>\n",
       "    <tr>\n",
       "      <th>game</th>\n",
       "      <th>title</th>\n",
       "      <th></th>\n",
       "    </tr>\n",
       "  </thead>\n",
       "  <tbody>\n",
       "    <tr>\n",
       "      <th>13738</th>\n",
       "      <th>Aftermath</th>\n",
       "      <td>10.000000</td>\n",
       "    </tr>\n",
       "    <tr>\n",
       "      <th>8083</th>\n",
       "      <th>Cowgirls</th>\n",
       "      <td>10.000000</td>\n",
       "    </tr>\n",
       "    <tr>\n",
       "      <th>29345</th>\n",
       "      <th>David Dickinson's Antique Chase</th>\n",
       "      <td>10.000000</td>\n",
       "    </tr>\n",
       "    <tr>\n",
       "      <th>12216</th>\n",
       "      <th>Rumble</th>\n",
       "      <td>10.000000</td>\n",
       "    </tr>\n",
       "    <tr>\n",
       "      <th>27836</th>\n",
       "      <th>Baseball Mania</th>\n",
       "      <td>10.000000</td>\n",
       "    </tr>\n",
       "    <tr>\n",
       "      <th>1486</th>\n",
       "      <th>Plunder</th>\n",
       "      <td>10.000000</td>\n",
       "    </tr>\n",
       "    <tr>\n",
       "      <th>24824</th>\n",
       "      <th>Retinue: Medieval Skirmish Rules</th>\n",
       "      <td>10.000000</td>\n",
       "    </tr>\n",
       "    <tr>\n",
       "      <th>9276</th>\n",
       "      <th>Medieval Warfare</th>\n",
       "      <td>10.000000</td>\n",
       "    </tr>\n",
       "    <tr>\n",
       "      <th>10992</th>\n",
       "      <th>Zamitar</th>\n",
       "      <td>10.000000</td>\n",
       "    </tr>\n",
       "    <tr>\n",
       "      <th>15960</th>\n",
       "      <th>Damon Hill Motorsport Board Game</th>\n",
       "      <td>10.000000</td>\n",
       "    </tr>\n",
       "    <tr>\n",
       "      <th>13997</th>\n",
       "      <th>Junk</th>\n",
       "      <td>10.000000</td>\n",
       "    </tr>\n",
       "    <tr>\n",
       "      <th>13831</th>\n",
       "      <th>The Communication in Catan</th>\n",
       "      <td>10.000000</td>\n",
       "    </tr>\n",
       "    <tr>\n",
       "      <th>228370</th>\n",
       "      <th>TerroriXico</th>\n",
       "      <td>9.930233</td>\n",
       "    </tr>\n",
       "    <tr>\n",
       "      <th>24465</th>\n",
       "      <th>The World's Greatest Travel Game</th>\n",
       "      <td>9.750000</td>\n",
       "    </tr>\n",
       "    <tr>\n",
       "      <th>264858</th>\n",
       "      <th>Moonshine Empire</th>\n",
       "      <td>9.700000</td>\n",
       "    </tr>\n",
       "    <tr>\n",
       "      <th>281257</th>\n",
       "      <th>Aeolis</th>\n",
       "      <td>9.692308</td>\n",
       "    </tr>\n",
       "    <tr>\n",
       "      <th>235695</th>\n",
       "      <th>Frontier: The Card Game</th>\n",
       "      <td>9.692308</td>\n",
       "    </tr>\n",
       "    <tr>\n",
       "      <th>147635</th>\n",
       "      <th>Dungeon Crusade: Book I – Genesis of Evil</th>\n",
       "      <td>9.666667</td>\n",
       "    </tr>\n",
       "    <tr>\n",
       "      <th>261393</th>\n",
       "      <th>Dungeon Universalis</th>\n",
       "      <td>9.666329</td>\n",
       "    </tr>\n",
       "    <tr>\n",
       "      <th>200282</th>\n",
       "      <th>Jack's Friends</th>\n",
       "      <td>9.625000</td>\n",
       "    </tr>\n",
       "  </tbody>\n",
       "</table>\n",
       "</div>"
      ],
      "text/plain": [
       "                                                  mean_rating\n",
       "game   title                                                 \n",
       "13738  Aftermath                                    10.000000\n",
       "8083   Cowgirls                                     10.000000\n",
       "29345  David Dickinson's Antique Chase              10.000000\n",
       "12216  Rumble                                       10.000000\n",
       "27836  Baseball Mania                               10.000000\n",
       "1486   Plunder                                      10.000000\n",
       "24824  Retinue: Medieval Skirmish Rules             10.000000\n",
       "9276   Medieval Warfare                             10.000000\n",
       "10992  Zamitar                                      10.000000\n",
       "15960  Damon Hill Motorsport Board Game             10.000000\n",
       "13997  Junk                                         10.000000\n",
       "13831  The Communication in Catan                   10.000000\n",
       "228370 TerroriXico                                   9.930233\n",
       "24465  The World's Greatest Travel Game              9.750000\n",
       "264858 Moonshine Empire                              9.700000\n",
       "281257 Aeolis                                        9.692308\n",
       "235695 Frontier: The Card Game                       9.692308\n",
       "147635 Dungeon Crusade: Book I – Genesis of Evil     9.666667\n",
       "261393 Dungeon Universalis                           9.666329\n",
       "200282 Jack's Friends                                9.625000"
      ]
     },
     "execution_count": 15,
     "metadata": {},
     "output_type": "execute_result"
    }
   ],
   "source": [
    "df_mean_ranking"
   ]
  },
  {
   "cell_type": "code",
   "execution_count": null,
   "metadata": {},
   "outputs": [],
   "source": []
  },
  {
   "cell_type": "code",
   "execution_count": null,
   "metadata": {},
   "outputs": [],
   "source": [
    " "
   ]
  },
  {
   "cell_type": "code",
   "execution_count": null,
   "metadata": {},
   "outputs": [],
   "source": [
    "## Dataframe con il commentati per gioco"
   ]
  },
  {
   "cell_type": "code",
   "execution_count": null,
   "metadata": {},
   "outputs": [],
   "source": [
    "df_comment_ranking = df.groupby(['game', 'title']).agg(comment_count=('game', 'count')).sort_values('comment_count', ascending= False)"
   ]
  },
  {
   "cell_type": "code",
   "execution_count": null,
   "metadata": {},
   "outputs": [],
   "source": [
    "df_comment_ranking"
   ]
  },
  {
   "cell_type": "code",
   "execution_count": null,
   "metadata": {},
   "outputs": [],
   "source": [
    "## Dataframe con entrambi i commenti e rating"
   ]
  },
  {
   "cell_type": "code",
   "execution_count": null,
   "metadata": {},
   "outputs": [],
   "source": [
    "df_global = df.groupby(['game', 'title']).agg(mean_rating=('rating', 'mean'), comment_count=('game', 'count')).sort_values('mean_rating', ascending= False)\n",
    "\n"
   ]
  },
  {
   "cell_type": "code",
   "execution_count": null,
   "metadata": {},
   "outputs": [],
   "source": [
    "df_global"
   ]
  },
  {
   "cell_type": "code",
   "execution_count": null,
   "metadata": {},
   "outputs": [],
   "source": [
    "## grafico per vedere i commenti"
   ]
  },
  {
   "cell_type": "code",
   "execution_count": null,
   "metadata": {},
   "outputs": [],
   "source": [
    "fig, ax = plt.subplots(figsize=(16, 6),nrows=1, ncols=2)\n",
    "df_global[['comment_count']].hist(ax=ax[0])\n",
    "df_global[['mean_rating']].hist(ax=ax[1])\n",
    "plt.show()"
   ]
  },
  {
   "cell_type": "code",
   "execution_count": null,
   "metadata": {},
   "outputs": [],
   "source": [
    "##dataframe senza na"
   ]
  },
  {
   "cell_type": "code",
   "execution_count": null,
   "metadata": {},
   "outputs": [],
   "source": []
  },
  {
   "cell_type": "code",
   "execution_count": null,
   "metadata": {
    "scrolled": false
   },
   "outputs": [],
   "source": [
    "\n",
    "    "
   ]
  }
 ],
 "metadata": {
  "kernelspec": {
   "display_name": "Python 3",
   "language": "python",
   "name": "python3"
  },
  "language_info": {
   "codemirror_mode": {
    "name": "ipython",
    "version": 3
   },
   "file_extension": ".py",
   "mimetype": "text/x-python",
   "name": "python",
   "nbconvert_exporter": "python",
   "pygments_lexer": "ipython3",
   "version": "3.8.3"
  }
 },
 "nbformat": 4,
 "nbformat_minor": 4
}
