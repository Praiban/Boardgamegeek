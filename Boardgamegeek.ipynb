{
 "cells": [
  {
   "cell_type": "code",
   "execution_count": null,
   "metadata": {},
   "outputs": [],
   "source": [
    "###importo le librerie che utilizzerò"
   ]
  },
  {
   "cell_type": "code",
   "execution_count": 1,
   "metadata": {},
   "outputs": [],
   "source": [
    "import numpy as np\n",
    "import pandas as pd\n",
    "from tqdm.notebook import tqdm\n",
    "import matplotlib.pyplot as plt\n"
   ]
  },
  {
   "cell_type": "code",
   "execution_count": null,
   "metadata": {},
   "outputs": [],
   "source": [
    "##trovo il percorso del file"
   ]
  },
  {
   "cell_type": "code",
   "execution_count": 2,
   "metadata": {},
   "outputs": [],
   "source": [
    "bbg = 'bgg.cvs/bgg.csv'"
   ]
  },
  {
   "cell_type": "code",
   "execution_count": null,
   "metadata": {},
   "outputs": [],
   "source": [
    "#utilizzando pandas e il suo metodo di lettura csv lo inserisco in un DataFrame"
   ]
  },
  {
   "cell_type": "code",
   "execution_count": 3,
   "metadata": {},
   "outputs": [],
   "source": [
    "df = pd.read_csv(bbg)"
   ]
  },
  {
   "cell_type": "code",
   "execution_count": 4,
   "metadata": {},
   "outputs": [
    {
     "data": {
      "text/plain": [
       "game        int64\n",
       "title      object\n",
       "rating    float64\n",
       "dtype: object"
      ]
     },
     "execution_count": 4,
     "metadata": {},
     "output_type": "execute_result"
    }
   ],
   "source": [
    "df.dtypes"
   ]
  },
  {
   "cell_type": "code",
   "execution_count": 5,
   "metadata": {},
   "outputs": [
    {
     "name": "stdout",
     "output_type": "stream",
     "text": [
      "<class 'pandas.core.frame.DataFrame'>\n",
      "RangeIndex: 1082167 entries, 0 to 1082166\n",
      "Data columns (total 3 columns):\n",
      " #   Column  Non-Null Count    Dtype  \n",
      "---  ------  --------------    -----  \n",
      " 0   game    1082167 non-null  int64  \n",
      " 1   title   1082167 non-null  object \n",
      " 2   rating  706813 non-null   float64\n",
      "dtypes: float64(1), int64(1), object(1)\n",
      "memory usage: 24.8+ MB\n"
     ]
    }
   ],
   "source": [
    "df.info()"
   ]
  },
  {
   "cell_type": "code",
   "execution_count": 6,
   "metadata": {},
   "outputs": [
    {
     "data": {
      "text/html": [
       "<div>\n",
       "<style scoped>\n",
       "    .dataframe tbody tr th:only-of-type {\n",
       "        vertical-align: middle;\n",
       "    }\n",
       "\n",
       "    .dataframe tbody tr th {\n",
       "        vertical-align: top;\n",
       "    }\n",
       "\n",
       "    .dataframe thead th {\n",
       "        text-align: right;\n",
       "    }\n",
       "</style>\n",
       "<table border=\"1\" class=\"dataframe\">\n",
       "  <thead>\n",
       "    <tr style=\"text-align: right;\">\n",
       "      <th></th>\n",
       "      <th>game</th>\n",
       "      <th>title</th>\n",
       "      <th>rating</th>\n",
       "    </tr>\n",
       "  </thead>\n",
       "  <tbody>\n",
       "    <tr>\n",
       "      <th>0</th>\n",
       "      <td>25984</td>\n",
       "      <td>Trivial Pursuit: Genus IV – Canadian Edition</td>\n",
       "      <td>3.0</td>\n",
       "    </tr>\n",
       "    <tr>\n",
       "      <th>1</th>\n",
       "      <td>25984</td>\n",
       "      <td>Trivial Pursuit: Genus IV – Canadian Edition</td>\n",
       "      <td>5.0</td>\n",
       "    </tr>\n",
       "    <tr>\n",
       "      <th>2</th>\n",
       "      <td>25984</td>\n",
       "      <td>Trivial Pursuit: Genus IV – Canadian Edition</td>\n",
       "      <td>3.0</td>\n",
       "    </tr>\n",
       "    <tr>\n",
       "      <th>3</th>\n",
       "      <td>25984</td>\n",
       "      <td>Trivial Pursuit: Genus IV – Canadian Edition</td>\n",
       "      <td>7.0</td>\n",
       "    </tr>\n",
       "    <tr>\n",
       "      <th>4</th>\n",
       "      <td>25984</td>\n",
       "      <td>Trivial Pursuit: Genus IV – Canadian Edition</td>\n",
       "      <td>6.0</td>\n",
       "    </tr>\n",
       "    <tr>\n",
       "      <th>...</th>\n",
       "      <td>...</td>\n",
       "      <td>...</td>\n",
       "      <td>...</td>\n",
       "    </tr>\n",
       "    <tr>\n",
       "      <th>1082162</th>\n",
       "      <td>11906</td>\n",
       "      <td>Source of the Nile: Tributary</td>\n",
       "      <td>5.0</td>\n",
       "    </tr>\n",
       "    <tr>\n",
       "      <th>1082163</th>\n",
       "      <td>11906</td>\n",
       "      <td>Source of the Nile: Tributary</td>\n",
       "      <td>NaN</td>\n",
       "    </tr>\n",
       "    <tr>\n",
       "      <th>1082164</th>\n",
       "      <td>11906</td>\n",
       "      <td>Source of the Nile: Tributary</td>\n",
       "      <td>NaN</td>\n",
       "    </tr>\n",
       "    <tr>\n",
       "      <th>1082165</th>\n",
       "      <td>11906</td>\n",
       "      <td>Source of the Nile: Tributary</td>\n",
       "      <td>NaN</td>\n",
       "    </tr>\n",
       "    <tr>\n",
       "      <th>1082166</th>\n",
       "      <td>11906</td>\n",
       "      <td>Source of the Nile: Tributary</td>\n",
       "      <td>NaN</td>\n",
       "    </tr>\n",
       "  </tbody>\n",
       "</table>\n",
       "<p>1082167 rows × 3 columns</p>\n",
       "</div>"
      ],
      "text/plain": [
       "          game                                         title  rating\n",
       "0        25984  Trivial Pursuit: Genus IV – Canadian Edition     3.0\n",
       "1        25984  Trivial Pursuit: Genus IV – Canadian Edition     5.0\n",
       "2        25984  Trivial Pursuit: Genus IV – Canadian Edition     3.0\n",
       "3        25984  Trivial Pursuit: Genus IV – Canadian Edition     7.0\n",
       "4        25984  Trivial Pursuit: Genus IV – Canadian Edition     6.0\n",
       "...        ...                                           ...     ...\n",
       "1082162  11906                 Source of the Nile: Tributary     5.0\n",
       "1082163  11906                 Source of the Nile: Tributary     NaN\n",
       "1082164  11906                 Source of the Nile: Tributary     NaN\n",
       "1082165  11906                 Source of the Nile: Tributary     NaN\n",
       "1082166  11906                 Source of the Nile: Tributary     NaN\n",
       "\n",
       "[1082167 rows x 3 columns]"
      ]
     },
     "execution_count": 6,
     "metadata": {},
     "output_type": "execute_result"
    }
   ],
   "source": [
    "df"
   ]
  },
  {
   "cell_type": "code",
   "execution_count": null,
   "metadata": {},
   "outputs": [],
   "source": [
    "## Nuovo DataFrame con la media aritmetica dei voti per ciascun gioco messi in ordine "
   ]
  },
  {
   "cell_type": "code",
   "execution_count": 7,
   "metadata": {},
   "outputs": [],
   "source": [
    "df_mean_ranking = df.groupby(['game', 'title']).agg(mean_rating=('rating', 'mean')).sort_values('mean_rating', ascending= False)[:20]"
   ]
  },
  {
   "cell_type": "code",
   "execution_count": 8,
   "metadata": {},
   "outputs": [
    {
     "data": {
      "text/html": [
       "<div>\n",
       "<style scoped>\n",
       "    .dataframe tbody tr th:only-of-type {\n",
       "        vertical-align: middle;\n",
       "    }\n",
       "\n",
       "    .dataframe tbody tr th {\n",
       "        vertical-align: top;\n",
       "    }\n",
       "\n",
       "    .dataframe thead th {\n",
       "        text-align: right;\n",
       "    }\n",
       "</style>\n",
       "<table border=\"1\" class=\"dataframe\">\n",
       "  <thead>\n",
       "    <tr style=\"text-align: right;\">\n",
       "      <th></th>\n",
       "      <th></th>\n",
       "      <th>mean_rating</th>\n",
       "    </tr>\n",
       "    <tr>\n",
       "      <th>game</th>\n",
       "      <th>title</th>\n",
       "      <th></th>\n",
       "    </tr>\n",
       "  </thead>\n",
       "  <tbody>\n",
       "    <tr>\n",
       "      <th>13738</th>\n",
       "      <th>Aftermath</th>\n",
       "      <td>10.000000</td>\n",
       "    </tr>\n",
       "    <tr>\n",
       "      <th>8083</th>\n",
       "      <th>Cowgirls</th>\n",
       "      <td>10.000000</td>\n",
       "    </tr>\n",
       "    <tr>\n",
       "      <th>29345</th>\n",
       "      <th>David Dickinson's Antique Chase</th>\n",
       "      <td>10.000000</td>\n",
       "    </tr>\n",
       "    <tr>\n",
       "      <th>12216</th>\n",
       "      <th>Rumble</th>\n",
       "      <td>10.000000</td>\n",
       "    </tr>\n",
       "    <tr>\n",
       "      <th>27836</th>\n",
       "      <th>Baseball Mania</th>\n",
       "      <td>10.000000</td>\n",
       "    </tr>\n",
       "    <tr>\n",
       "      <th>1486</th>\n",
       "      <th>Plunder</th>\n",
       "      <td>10.000000</td>\n",
       "    </tr>\n",
       "    <tr>\n",
       "      <th>24824</th>\n",
       "      <th>Retinue: Medieval Skirmish Rules</th>\n",
       "      <td>10.000000</td>\n",
       "    </tr>\n",
       "    <tr>\n",
       "      <th>9276</th>\n",
       "      <th>Medieval Warfare</th>\n",
       "      <td>10.000000</td>\n",
       "    </tr>\n",
       "    <tr>\n",
       "      <th>10992</th>\n",
       "      <th>Zamitar</th>\n",
       "      <td>10.000000</td>\n",
       "    </tr>\n",
       "    <tr>\n",
       "      <th>15960</th>\n",
       "      <th>Damon Hill Motorsport Board Game</th>\n",
       "      <td>10.000000</td>\n",
       "    </tr>\n",
       "    <tr>\n",
       "      <th>13997</th>\n",
       "      <th>Junk</th>\n",
       "      <td>10.000000</td>\n",
       "    </tr>\n",
       "    <tr>\n",
       "      <th>13831</th>\n",
       "      <th>The Communication in Catan</th>\n",
       "      <td>10.000000</td>\n",
       "    </tr>\n",
       "    <tr>\n",
       "      <th>228370</th>\n",
       "      <th>TerroriXico</th>\n",
       "      <td>9.930233</td>\n",
       "    </tr>\n",
       "    <tr>\n",
       "      <th>24465</th>\n",
       "      <th>The World's Greatest Travel Game</th>\n",
       "      <td>9.750000</td>\n",
       "    </tr>\n",
       "    <tr>\n",
       "      <th>264858</th>\n",
       "      <th>Moonshine Empire</th>\n",
       "      <td>9.700000</td>\n",
       "    </tr>\n",
       "    <tr>\n",
       "      <th>281257</th>\n",
       "      <th>Aeolis</th>\n",
       "      <td>9.692308</td>\n",
       "    </tr>\n",
       "    <tr>\n",
       "      <th>235695</th>\n",
       "      <th>Frontier: The Card Game</th>\n",
       "      <td>9.692308</td>\n",
       "    </tr>\n",
       "    <tr>\n",
       "      <th>147635</th>\n",
       "      <th>Dungeon Crusade: Book I – Genesis of Evil</th>\n",
       "      <td>9.666667</td>\n",
       "    </tr>\n",
       "    <tr>\n",
       "      <th>261393</th>\n",
       "      <th>Dungeon Universalis</th>\n",
       "      <td>9.666329</td>\n",
       "    </tr>\n",
       "    <tr>\n",
       "      <th>200282</th>\n",
       "      <th>Jack's Friends</th>\n",
       "      <td>9.625000</td>\n",
       "    </tr>\n",
       "  </tbody>\n",
       "</table>\n",
       "</div>"
      ],
      "text/plain": [
       "                                                  mean_rating\n",
       "game   title                                                 \n",
       "13738  Aftermath                                    10.000000\n",
       "8083   Cowgirls                                     10.000000\n",
       "29345  David Dickinson's Antique Chase              10.000000\n",
       "12216  Rumble                                       10.000000\n",
       "27836  Baseball Mania                               10.000000\n",
       "1486   Plunder                                      10.000000\n",
       "24824  Retinue: Medieval Skirmish Rules             10.000000\n",
       "9276   Medieval Warfare                             10.000000\n",
       "10992  Zamitar                                      10.000000\n",
       "15960  Damon Hill Motorsport Board Game             10.000000\n",
       "13997  Junk                                         10.000000\n",
       "13831  The Communication in Catan                   10.000000\n",
       "228370 TerroriXico                                   9.930233\n",
       "24465  The World's Greatest Travel Game              9.750000\n",
       "264858 Moonshine Empire                              9.700000\n",
       "281257 Aeolis                                        9.692308\n",
       "235695 Frontier: The Card Game                       9.692308\n",
       "147635 Dungeon Crusade: Book I – Genesis of Evil     9.666667\n",
       "261393 Dungeon Universalis                           9.666329\n",
       "200282 Jack's Friends                                9.625000"
      ]
     },
     "execution_count": 8,
     "metadata": {},
     "output_type": "execute_result"
    }
   ],
   "source": [
    "df_mean_ranking"
   ]
  },
  {
   "cell_type": "code",
   "execution_count": null,
   "metadata": {},
   "outputs": [],
   "source": [
    "## Dataframe con il commentati per gioco"
   ]
  },
  {
   "cell_type": "code",
   "execution_count": 9,
   "metadata": {},
   "outputs": [],
   "source": [
    "df_comment_ranking = df.groupby(['game', 'title']).agg(comment_count=('game', 'count')).sort_values('comment_count', ascending= False)"
   ]
  },
  {
   "cell_type": "code",
   "execution_count": 10,
   "metadata": {},
   "outputs": [
    {
     "data": {
      "text/html": [
       "<div>\n",
       "<style scoped>\n",
       "    .dataframe tbody tr th:only-of-type {\n",
       "        vertical-align: middle;\n",
       "    }\n",
       "\n",
       "    .dataframe tbody tr th {\n",
       "        vertical-align: top;\n",
       "    }\n",
       "\n",
       "    .dataframe thead th {\n",
       "        text-align: right;\n",
       "    }\n",
       "</style>\n",
       "<table border=\"1\" class=\"dataframe\">\n",
       "  <thead>\n",
       "    <tr style=\"text-align: right;\">\n",
       "      <th></th>\n",
       "      <th></th>\n",
       "      <th>comment_count</th>\n",
       "    </tr>\n",
       "    <tr>\n",
       "      <th>game</th>\n",
       "      <th>title</th>\n",
       "      <th></th>\n",
       "    </tr>\n",
       "  </thead>\n",
       "  <tbody>\n",
       "    <tr>\n",
       "      <th>1</th>\n",
       "      <th>Die Macher</th>\n",
       "      <td>100</td>\n",
       "    </tr>\n",
       "    <tr>\n",
       "      <th>41916</th>\n",
       "      <th>The Magic Labyrinth</th>\n",
       "      <td>100</td>\n",
       "    </tr>\n",
       "    <tr>\n",
       "      <th>41658</th>\n",
       "      <th>Adios Amigos</th>\n",
       "      <td>100</td>\n",
       "    </tr>\n",
       "    <tr>\n",
       "      <th>41749</th>\n",
       "      <th>American Rails</th>\n",
       "      <td>100</td>\n",
       "    </tr>\n",
       "    <tr>\n",
       "      <th>41762</th>\n",
       "      <th>Fastrack</th>\n",
       "      <td>100</td>\n",
       "    </tr>\n",
       "    <tr>\n",
       "      <th>...</th>\n",
       "      <th>...</th>\n",
       "      <td>...</td>\n",
       "    </tr>\n",
       "    <tr>\n",
       "      <th>26433</th>\n",
       "      <th>Colo Rolo</th>\n",
       "      <td>5</td>\n",
       "    </tr>\n",
       "    <tr>\n",
       "      <th>5337</th>\n",
       "      <th>Route 66</th>\n",
       "      <td>5</td>\n",
       "    </tr>\n",
       "    <tr>\n",
       "      <th>10181</th>\n",
       "      <th>The Hunchback of Notre Dame</th>\n",
       "      <td>5</td>\n",
       "    </tr>\n",
       "    <tr>\n",
       "      <th>10185</th>\n",
       "      <th>Liar's Poker</th>\n",
       "      <td>5</td>\n",
       "    </tr>\n",
       "    <tr>\n",
       "      <th>9409</th>\n",
       "      <th>Meister Scheibenkleister</th>\n",
       "      <td>5</td>\n",
       "    </tr>\n",
       "  </tbody>\n",
       "</table>\n",
       "<p>23931 rows × 1 columns</p>\n",
       "</div>"
      ],
      "text/plain": [
       "                                   comment_count\n",
       "game  title                                     \n",
       "1     Die Macher                             100\n",
       "41916 The Magic Labyrinth                    100\n",
       "41658 Adios Amigos                           100\n",
       "41749 American Rails                         100\n",
       "41762 Fastrack                               100\n",
       "...                                          ...\n",
       "26433 Colo Rolo                                5\n",
       "5337  Route 66                                 5\n",
       "10181 The Hunchback of Notre Dame              5\n",
       "10185 Liar's Poker                             5\n",
       "9409  Meister Scheibenkleister                 5\n",
       "\n",
       "[23931 rows x 1 columns]"
      ]
     },
     "execution_count": 10,
     "metadata": {},
     "output_type": "execute_result"
    }
   ],
   "source": [
    "df_comment_ranking"
   ]
  },
  {
   "cell_type": "code",
   "execution_count": null,
   "metadata": {},
   "outputs": [],
   "source": [
    "## Dataframe con entrambi i commenti e rating"
   ]
  },
  {
   "cell_type": "code",
   "execution_count": 11,
   "metadata": {},
   "outputs": [],
   "source": [
    "df_global = df.groupby(['game', 'title']).agg(mean_rating=('rating', 'mean'), comment_count=('game', 'count')).sort_values('mean_rating', ascending= False)\n",
    "\n"
   ]
  },
  {
   "cell_type": "code",
   "execution_count": 12,
   "metadata": {},
   "outputs": [
    {
     "data": {
      "text/html": [
       "<div>\n",
       "<style scoped>\n",
       "    .dataframe tbody tr th:only-of-type {\n",
       "        vertical-align: middle;\n",
       "    }\n",
       "\n",
       "    .dataframe tbody tr th {\n",
       "        vertical-align: top;\n",
       "    }\n",
       "\n",
       "    .dataframe thead th {\n",
       "        text-align: right;\n",
       "    }\n",
       "</style>\n",
       "<table border=\"1\" class=\"dataframe\">\n",
       "  <thead>\n",
       "    <tr style=\"text-align: right;\">\n",
       "      <th></th>\n",
       "      <th></th>\n",
       "      <th>mean_rating</th>\n",
       "      <th>comment_count</th>\n",
       "    </tr>\n",
       "    <tr>\n",
       "      <th>game</th>\n",
       "      <th>title</th>\n",
       "      <th></th>\n",
       "      <th></th>\n",
       "    </tr>\n",
       "  </thead>\n",
       "  <tbody>\n",
       "    <tr>\n",
       "      <th>13738</th>\n",
       "      <th>Aftermath</th>\n",
       "      <td>10.0</td>\n",
       "      <td>5</td>\n",
       "    </tr>\n",
       "    <tr>\n",
       "      <th>8083</th>\n",
       "      <th>Cowgirls</th>\n",
       "      <td>10.0</td>\n",
       "      <td>5</td>\n",
       "    </tr>\n",
       "    <tr>\n",
       "      <th>29345</th>\n",
       "      <th>David Dickinson's Antique Chase</th>\n",
       "      <td>10.0</td>\n",
       "      <td>5</td>\n",
       "    </tr>\n",
       "    <tr>\n",
       "      <th>12216</th>\n",
       "      <th>Rumble</th>\n",
       "      <td>10.0</td>\n",
       "      <td>5</td>\n",
       "    </tr>\n",
       "    <tr>\n",
       "      <th>27836</th>\n",
       "      <th>Baseball Mania</th>\n",
       "      <td>10.0</td>\n",
       "      <td>6</td>\n",
       "    </tr>\n",
       "    <tr>\n",
       "      <th>...</th>\n",
       "      <th>...</th>\n",
       "      <td>...</td>\n",
       "      <td>...</td>\n",
       "    </tr>\n",
       "    <tr>\n",
       "      <th>30400</th>\n",
       "      <th>Scramble for Africa</th>\n",
       "      <td>NaN</td>\n",
       "      <td>5</td>\n",
       "    </tr>\n",
       "    <tr>\n",
       "      <th>30573</th>\n",
       "      <th>Caddyshack Trivia Game</th>\n",
       "      <td>NaN</td>\n",
       "      <td>7</td>\n",
       "    </tr>\n",
       "    <tr>\n",
       "      <th>30639</th>\n",
       "      <th>Scrapyard Wars</th>\n",
       "      <td>NaN</td>\n",
       "      <td>6</td>\n",
       "    </tr>\n",
       "    <tr>\n",
       "      <th>30792</th>\n",
       "      <th>Space 1889 Adversaries</th>\n",
       "      <td>NaN</td>\n",
       "      <td>9</td>\n",
       "    </tr>\n",
       "    <tr>\n",
       "      <th>141577</th>\n",
       "      <th>SłowoStworki</th>\n",
       "      <td>NaN</td>\n",
       "      <td>6</td>\n",
       "    </tr>\n",
       "  </tbody>\n",
       "</table>\n",
       "<p>23931 rows × 2 columns</p>\n",
       "</div>"
      ],
      "text/plain": [
       "                                        mean_rating  comment_count\n",
       "game   title                                                      \n",
       "13738  Aftermath                               10.0              5\n",
       "8083   Cowgirls                                10.0              5\n",
       "29345  David Dickinson's Antique Chase         10.0              5\n",
       "12216  Rumble                                  10.0              5\n",
       "27836  Baseball Mania                          10.0              6\n",
       "...                                             ...            ...\n",
       "30400  Scramble for Africa                      NaN              5\n",
       "30573  Caddyshack Trivia Game                   NaN              7\n",
       "30639  Scrapyard Wars                           NaN              6\n",
       "30792  Space 1889 Adversaries                   NaN              9\n",
       "141577 SłowoStworki                             NaN              6\n",
       "\n",
       "[23931 rows x 2 columns]"
      ]
     },
     "execution_count": 12,
     "metadata": {},
     "output_type": "execute_result"
    }
   ],
   "source": [
    "df_global"
   ]
  },
  {
   "cell_type": "code",
   "execution_count": null,
   "metadata": {},
   "outputs": [],
   "source": [
    "## grafico per vedere i commenti"
   ]
  },
  {
   "cell_type": "code",
   "execution_count": 13,
   "metadata": {
    "scrolled": false
   },
   "outputs": [
    {
     "data": {
      "image/png": "[encoded data removed]",
      "text/plain": [
       "<Figure size 1152x432 with 2 Axes>"
      ]
     },
     "metadata": {
      "needs_background": "light"
     },
     "output_type": "display_data"
    }
   ],
   "source": [
    "fig, ax = plt.subplots(figsize=(16, 6),nrows=1, ncols=2)\n",
    "df_global[['comment_count']].hist(ax=ax[0])\n",
    "df_global[['mean_rating']].hist(ax=ax[1])\n",
    "plt.show()\n",
    "    "
   ]
  },
  {
   "cell_type": "code",
   "execution_count": null,
   "metadata": {},
   "outputs": [],
   "source": [
    "\n"
   ]
  }
 ],
 "metadata": {
  "kernelspec": {
   "display_name": "Python 3",
   "language": "python",
   "name": "python3"
  },
  "language_info": {
   "codemirror_mode": {
    "name": "ipython",
    "version": 3
   },
   "file_extension": ".py",
   "mimetype": "text/x-python",
   "name": "python",
   "nbconvert_exporter": "python",
   "pygments_lexer": "ipython3",
   "version": "3.8.3"
  }
 },
 "nbformat": 4,
 "nbformat_minor": 4
}
