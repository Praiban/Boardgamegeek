{
 "cells": [
  {
   "cell_type": "code",
   "execution_count": 47,
   "metadata": {},
   "outputs": [],
   "source": [
    "import numpy as np\n",
    "import pandas as pd\n",
    "import requests\n",
    "from tqdm.notebook import tqdm\n",
    "from libbgg.apiv1 import BGG\n",
    "import itertools"
   ]
  },
  {
   "cell_type": "code",
   "execution_count": 48,
   "metadata": {},
   "outputs": [],
   "source": [
    "bbg = 'data/bgg.csv'"
   ]
  },
  {
   "cell_type": "code",
   "execution_count": 49,
   "metadata": {},
   "outputs": [],
   "source": [
    "df = pd.read_csv(bbg)"
   ]
  },
  {
   "cell_type": "code",
   "execution_count": 50,
   "metadata": {},
   "outputs": [
    {
     "data": {
      "text/html": [
       "<div>\n",
       "<style scoped>\n",
       "    .dataframe tbody tr th:only-of-type {\n",
       "        vertical-align: middle;\n",
       "    }\n",
       "\n",
       "    .dataframe tbody tr th {\n",
       "        vertical-align: top;\n",
       "    }\n",
       "\n",
       "    .dataframe thead th {\n",
       "        text-align: right;\n",
       "    }\n",
       "</style>\n",
       "<table border=\"1\" class=\"dataframe\">\n",
       "  <thead>\n",
       "    <tr style=\"text-align: right;\">\n",
       "      <th></th>\n",
       "      <th>game</th>\n",
       "      <th>title</th>\n",
       "      <th>rating</th>\n",
       "    </tr>\n",
       "  </thead>\n",
       "  <tbody>\n",
       "    <tr>\n",
       "      <th>0</th>\n",
       "      <td>25984</td>\n",
       "      <td>Trivial Pursuit: Genus IV – Canadian Edition</td>\n",
       "      <td>3.0</td>\n",
       "    </tr>\n",
       "    <tr>\n",
       "      <th>1</th>\n",
       "      <td>25984</td>\n",
       "      <td>Trivial Pursuit: Genus IV – Canadian Edition</td>\n",
       "      <td>5.0</td>\n",
       "    </tr>\n",
       "    <tr>\n",
       "      <th>2</th>\n",
       "      <td>25984</td>\n",
       "      <td>Trivial Pursuit: Genus IV – Canadian Edition</td>\n",
       "      <td>3.0</td>\n",
       "    </tr>\n",
       "    <tr>\n",
       "      <th>3</th>\n",
       "      <td>25984</td>\n",
       "      <td>Trivial Pursuit: Genus IV – Canadian Edition</td>\n",
       "      <td>7.0</td>\n",
       "    </tr>\n",
       "    <tr>\n",
       "      <th>4</th>\n",
       "      <td>25984</td>\n",
       "      <td>Trivial Pursuit: Genus IV – Canadian Edition</td>\n",
       "      <td>6.0</td>\n",
       "    </tr>\n",
       "  </tbody>\n",
       "</table>\n",
       "</div>"
      ],
      "text/plain": [
       "    game                                         title  rating\n",
       "0  25984  Trivial Pursuit: Genus IV – Canadian Edition     3.0\n",
       "1  25984  Trivial Pursuit: Genus IV – Canadian Edition     5.0\n",
       "2  25984  Trivial Pursuit: Genus IV – Canadian Edition     3.0\n",
       "3  25984  Trivial Pursuit: Genus IV – Canadian Edition     7.0\n",
       "4  25984  Trivial Pursuit: Genus IV – Canadian Edition     6.0"
      ]
     },
     "execution_count": 50,
     "metadata": {},
     "output_type": "execute_result"
    }
   ],
   "source": [
    "df.head()"
   ]
  },
  {
   "cell_type": "code",
   "execution_count": 51,
   "metadata": {},
   "outputs": [
    {
     "data": {
      "text/plain": [
       "23931"
      ]
     },
     "execution_count": 51,
     "metadata": {},
     "output_type": "execute_result"
    }
   ],
   "source": [
    "id_list = df.game.unique()\n",
    "len(id_list)"
   ]
  },
  {
   "cell_type": "code",
   "execution_count": 52,
   "metadata": {},
   "outputs": [],
   "source": [
    "def chunks(iterable, size):\n",
    "    \"\"\"Generate adjacent chunks of data\"\"\"\n",
    "    it = iter(iterable)\n",
    "    return iter(lambda: tuple(itertools.islice(it, size)), ())\n"
   ]
  },
  {
   "cell_type": "code",
   "execution_count": 53,
   "metadata": {},
   "outputs": [],
   "source": [
    "chunk = list(chunks(id_list, 1000))"
   ]
  },
  {
   "cell_type": "code",
   "execution_count": 54,
   "metadata": {},
   "outputs": [],
   "source": [
    "conn = BGG()"
   ]
  },
  {
   "cell_type": "code",
   "execution_count": 55,
   "metadata": {},
   "outputs": [],
   "source": [
    "games = []"
   ]
  },
  {
   "cell_type": "code",
   "execution_count": 56,
   "metadata": {},
   "outputs": [],
   "source": [
    "for i in chunk:\n",
    "    results = conn.get_game(game_ids=i , stats=True)\n",
    "    \n",
    "    for rec in results['boardgames']['boardgame']:\n",
    "        record = {}\n",
    "        #game id\n",
    "        record['id'] = rec['objectid']\n",
    "        #game name\n",
    "        if not isinstance(rec['name'], list):\n",
    "            record['name'] = rec['name']['TEXT']\n",
    "        else:\n",
    "            for i in rec['name']:\n",
    "                try:\n",
    "                    i['primary']\n",
    "                    record['name'] =i['TEXT']\n",
    "                except:\n",
    "                    pass\n",
    "        #game rank\n",
    "        if not isinstance(rec['statistics']['ratings']['ranks']['rank'], list):\n",
    "            rate=rec['statistics']['ratings']['ranks']['rank']\n",
    "        else:\n",
    "            rate=[value for index, value in\n",
    "                   enumerate(rec['statistics']['ratings']['ranks']['rank'])\n",
    "                   if value['name'] == 'boardgame'][0]\n",
    "        record['rank']= rate['value']\n",
    "        record['bayesaverage'] = rate['bayesaverage']\n",
    "        games.append(record)\n"
   ]
  },
  {
   "cell_type": "code",
   "execution_count": 57,
   "metadata": {},
   "outputs": [],
   "source": [
    "games_df = pd.DataFrame(games)"
   ]
  },
  {
   "cell_type": "code",
   "execution_count": 58,
   "metadata": {},
   "outputs": [],
   "source": [
    "games_df.to_csv('data/bgg_true_stats.csv',index=False)"
   ]
  },
  {
   "cell_type": "code",
   "execution_count": 59,
   "metadata": {},
   "outputs": [
    {
     "data": {
      "text/html": [
       "<div>\n",
       "<style scoped>\n",
       "    .dataframe tbody tr th:only-of-type {\n",
       "        vertical-align: middle;\n",
       "    }\n",
       "\n",
       "    .dataframe tbody tr th {\n",
       "        vertical-align: top;\n",
       "    }\n",
       "\n",
       "    .dataframe thead th {\n",
       "        text-align: right;\n",
       "    }\n",
       "</style>\n",
       "<table border=\"1\" class=\"dataframe\">\n",
       "  <thead>\n",
       "    <tr style=\"text-align: right;\">\n",
       "      <th></th>\n",
       "      <th>id</th>\n",
       "      <th>name</th>\n",
       "      <th>rank</th>\n",
       "      <th>bayesaverage</th>\n",
       "    </tr>\n",
       "  </thead>\n",
       "  <tbody>\n",
       "    <tr>\n",
       "      <th>0</th>\n",
       "      <td>25984</td>\n",
       "      <td>Trivial Pursuit: Genus IV – Canadian Edition</td>\n",
       "      <td>Not Ranked</td>\n",
       "      <td>Not Ranked</td>\n",
       "    </tr>\n",
       "    <tr>\n",
       "      <th>1</th>\n",
       "      <td>103339</td>\n",
       "      <td>Reluctant Enemies: Operation Exporter</td>\n",
       "      <td>3416</td>\n",
       "      <td>5.82593</td>\n",
       "    </tr>\n",
       "    <tr>\n",
       "      <th>2</th>\n",
       "      <td>132758</td>\n",
       "      <td>Fool's Gold</td>\n",
       "      <td>3385</td>\n",
       "      <td>5.82964</td>\n",
       "    </tr>\n",
       "    <tr>\n",
       "      <th>3</th>\n",
       "      <td>16497</td>\n",
       "      <td>Rat Hot</td>\n",
       "      <td>3498</td>\n",
       "      <td>5.81678</td>\n",
       "    </tr>\n",
       "    <tr>\n",
       "      <th>4</th>\n",
       "      <td>195194</td>\n",
       "      <td>Horizons</td>\n",
       "      <td>3316</td>\n",
       "      <td>5.83852</td>\n",
       "    </tr>\n",
       "  </tbody>\n",
       "</table>\n",
       "</div>"
      ],
      "text/plain": [
       "       id                                          name        rank  \\\n",
       "0   25984  Trivial Pursuit: Genus IV – Canadian Edition  Not Ranked   \n",
       "1  103339         Reluctant Enemies: Operation Exporter        3416   \n",
       "2  132758                                   Fool's Gold        3385   \n",
       "3   16497                                       Rat Hot        3498   \n",
       "4  195194                                      Horizons        3316   \n",
       "\n",
       "  bayesaverage  \n",
       "0   Not Ranked  \n",
       "1      5.82593  \n",
       "2      5.82964  \n",
       "3      5.81678  \n",
       "4      5.83852  "
      ]
     },
     "execution_count": 59,
     "metadata": {},
     "output_type": "execute_result"
    }
   ],
   "source": [
    "games_df.head()"
   ]
  },
  {
   "cell_type": "code",
   "execution_count": 60,
   "metadata": {},
   "outputs": [
    {
     "data": {
      "text/html": [
       "<div>\n",
       "<style scoped>\n",
       "    .dataframe tbody tr th:only-of-type {\n",
       "        vertical-align: middle;\n",
       "    }\n",
       "\n",
       "    .dataframe tbody tr th {\n",
       "        vertical-align: top;\n",
       "    }\n",
       "\n",
       "    .dataframe thead th {\n",
       "        text-align: right;\n",
       "    }\n",
       "</style>\n",
       "<table border=\"1\" class=\"dataframe\">\n",
       "  <thead>\n",
       "    <tr style=\"text-align: right;\">\n",
       "      <th></th>\n",
       "      <th>id</th>\n",
       "      <th>name</th>\n",
       "      <th>rank</th>\n",
       "      <th>bayesaverage</th>\n",
       "    </tr>\n",
       "  </thead>\n",
       "  <tbody>\n",
       "    <tr>\n",
       "      <th>count</th>\n",
       "      <td>23923</td>\n",
       "      <td>23923</td>\n",
       "      <td>23923</td>\n",
       "      <td>23923</td>\n",
       "    </tr>\n",
       "    <tr>\n",
       "      <th>unique</th>\n",
       "      <td>23923</td>\n",
       "      <td>23370</td>\n",
       "      <td>17009</td>\n",
       "      <td>13626</td>\n",
       "    </tr>\n",
       "    <tr>\n",
       "      <th>top</th>\n",
       "      <td>94331</td>\n",
       "      <td>Blockade</td>\n",
       "      <td>Not Ranked</td>\n",
       "      <td>Not Ranked</td>\n",
       "    </tr>\n",
       "    <tr>\n",
       "      <th>freq</th>\n",
       "      <td>1</td>\n",
       "      <td>5</td>\n",
       "      <td>6915</td>\n",
       "      <td>6011</td>\n",
       "    </tr>\n",
       "  </tbody>\n",
       "</table>\n",
       "</div>"
      ],
      "text/plain": [
       "           id      name        rank bayesaverage\n",
       "count   23923     23923       23923        23923\n",
       "unique  23923     23370       17009        13626\n",
       "top     94331  Blockade  Not Ranked   Not Ranked\n",
       "freq        1         5        6915         6011"
      ]
     },
     "execution_count": 60,
     "metadata": {},
     "output_type": "execute_result"
    }
   ],
   "source": [
    "games_df.describe()"
   ]
  }
 ],
 "metadata": {
  "kernelspec": {
   "display_name": "Python 3",
   "language": "python",
   "name": "python3"
  },
  "language_info": {
   "codemirror_mode": {
    "name": "ipython",
    "version": 3
   },
   "file_extension": ".py",
   "mimetype": "text/x-python",
   "name": "python",
   "nbconvert_exporter": "python",
   "pygments_lexer": "ipython3",
   "version": "3.6.6"
  }
 },
 "nbformat": 4,
 "nbformat_minor": 4
}
